{
 "cells": [
  {
   "cell_type": "code",
   "execution_count": null,
   "metadata": {},
   "outputs": [],
   "source": [
    "import pandas as pd\n",
    "import json\n",
    "import matplotlib.pyplot as plt\n",
    "import seaborn as sns\n",
    "import numpy as np\n",
    "from urllib.parse import urlparse"
   ]
  },
  {
   "cell_type": "markdown",
   "metadata": {},
   "source": [
    "### Loading Data"
   ]
  },
  {
   "cell_type": "markdown",
   "metadata": {},
   "source": [
    "#### Python"
   ]
  },
  {
   "cell_type": "code",
   "execution_count": null,
   "metadata": {},
   "outputs": [],
   "source": [
    "jsonq = pd.read_json('Results/Python/JSON/json-queries-performance.json')"
   ]
  },
  {
   "cell_type": "code",
   "execution_count": null,
   "metadata": {},
   "outputs": [],
   "source": [
    "pandasq = pd.read_json('Results/Python/PANDAS/pandas-queries-performance.json') "
   ]
  },
  {
   "cell_type": "code",
   "execution_count": null,
   "metadata": {},
   "outputs": [],
   "source": [
    "postq = pd.read_json('Results/Python/POST/post-queries-performance.json')"
   ]
  },
  {
   "cell_type": "markdown",
   "metadata": {},
   "source": [
    "#### Wayang"
   ]
  },
  {
   "cell_type": "code",
   "execution_count": null,
   "metadata": {},
   "outputs": [],
   "source": [
    "wayang_jsonq = pd.read_json('Results/Wayang/JSON/json-queries-performance.json',convert_dates=False)"
   ]
  },
  {
   "cell_type": "code",
   "execution_count": null,
   "metadata": {},
   "outputs": [],
   "source": [
    "wayang_jsonq_api = pd.read_json('Results/Wayang/JSON/json-api-latency.json',convert_dates=False)"
   ]
  },
  {
   "cell_type": "code",
   "execution_count": null,
   "metadata": {},
   "outputs": [],
   "source": [
    "wayang_jsonq_api['base_url'] = wayang_jsonq_api['url'].apply(lambda x: urlparse(x).netloc)\n",
    "wayang_jsonq_api['url_group'] = (wayang_jsonq_api['base_url'] != wayang_jsonq_api['base_url'].shift()).cumsum()\n",
    "wayang_jsonq_api = wayang_jsonq_api.groupby('url_group').agg({\n",
    "    'base_url': 'first',  \n",
    "    'latency_seconds': 'sum'  \n",
    "}).reset_index(drop=True)"
   ]
  },
  {
   "cell_type": "code",
   "execution_count": null,
   "metadata": {},
   "outputs": [],
   "source": [
    "wayang_postq = pd.read_json('Results/Wayang/POST/post-queries-performance.json',convert_dates=False)"
   ]
  },
  {
   "cell_type": "code",
   "execution_count": null,
   "metadata": {},
   "outputs": [],
   "source": [
    "wayang_postq_api = pd.read_json('Results/Wayang/POST/post-api-latency.json',convert_dates=False)"
   ]
  },
  {
   "cell_type": "code",
   "execution_count": null,
   "metadata": {},
   "outputs": [],
   "source": [
    "wayang_postq_api['base_url'] = wayang_postq_api['url'].apply(lambda x: urlparse(x).netloc)\n",
    "wayang_postq_api['url_group'] = (wayang_postq_api['base_url'] != wayang_postq_api['base_url'].shift()).cumsum()\n",
    "wayang_postq_api = wayang_postq_api.groupby('url_group').agg({\n",
    "    'base_url': 'first',  \n",
    "    'latency_seconds': 'sum'  \n",
    "}).reset_index(drop=True)"
   ]
  },
  {
   "cell_type": "markdown",
   "metadata": {},
   "source": [
    "#### Java"
   ]
  },
  {
   "cell_type": "code",
   "execution_count": null,
   "metadata": {},
   "outputs": [],
   "source": [
    "java_jsonq = pd.read_json('Results/Standalone/JSON/json-queries-performance.json',convert_dates=False)"
   ]
  },
  {
   "cell_type": "code",
   "execution_count": null,
   "metadata": {},
   "outputs": [],
   "source": [
    "java_jsonq_api = pd.read_json('Results/Standalone/JSON/json-api-latency.json',convert_dates=False)"
   ]
  },
  {
   "cell_type": "code",
   "execution_count": null,
   "metadata": {},
   "outputs": [],
   "source": [
    "java_jsonq_api['base_url'] = java_jsonq_api['url'].apply(lambda x: urlparse(x).netloc)\n",
    "java_jsonq_api['url_group'] = (java_jsonq_api['base_url'] != java_jsonq_api['base_url'].shift()).cumsum()\n",
    "java_jsonq_api = java_jsonq_api.groupby('url_group').agg({\n",
    "    'base_url': 'first',  \n",
    "    'latency_seconds': 'sum'  \n",
    "}).reset_index(drop=True)"
   ]
  },
  {
   "cell_type": "code",
   "execution_count": null,
   "metadata": {},
   "outputs": [],
   "source": [
    "java_postq = pd.read_json('Results/Standalone/POST/post-queries-performance.json',convert_dates=False)"
   ]
  },
  {
   "cell_type": "code",
   "execution_count": null,
   "metadata": {},
   "outputs": [],
   "source": [
    "java_postq_api = pd.read_json('Results/Standalone/POST/post-api-latency.json',convert_dates=False)"
   ]
  },
  {
   "cell_type": "code",
   "execution_count": null,
   "metadata": {},
   "outputs": [],
   "source": [
    "java_postq_api['base_url'] = java_postq_api['url'].apply(lambda x: urlparse(x).netloc)\n",
    "java_postq_api['url_group'] = (java_postq_api['base_url'] != java_postq_api['base_url'].shift()).cumsum()\n",
    "java_postq_api = java_postq_api.groupby('url_group').agg({\n",
    "    'base_url': 'first',  \n",
    "    'latency_seconds': 'sum'  \n",
    "}).reset_index(drop=True)"
   ]
  },
  {
   "cell_type": "markdown",
   "metadata": {},
   "source": [
    "#### Box Plots"
   ]
  },
  {
   "cell_type": "code",
   "execution_count": null,
   "metadata": {},
   "outputs": [],
   "source": [
    "data1 = jsonq[jsonq['step'] == \"Forecast Query\"]['execution_time_seconds']\n",
    "data2 = pandasq[pandasq['step'] == \"Forecast Query\"]['execution_time_seconds']\n",
    "data3 = wayang_jsonq[wayang_jsonq['step'] == \"Forecast Query\"]['execution_time_seconds'].reset_index(drop = True) - wayang_jsonq_api[wayang_jsonq_api['base_url'] == \"api.forecastapp.com\"]['latency_seconds'].reset_index(drop=True)\n",
    "data4 = wayang_postq[wayang_postq['step'] == \"Forecast Query\"]['execution_time_seconds'].reset_index(drop = True) - wayang_postq_api[wayang_postq_api['base_url'] == \"api.forecastapp.com\"]['latency_seconds'].reset_index(drop=True)\n",
    "data5 = java_jsonq[java_jsonq['step'] == 'Forecast Query']['execution_time_seconds']\n",
    "data6 = java_postq[java_postq['step'] == 'Forecast Query']['execution_time_seconds']\n",
    "\n",
    "forecast = [data1, data2, data3, data5]\n",
    "\n",
    "plt.figure(figsize=(10, 6))\n",
    "plt.boxplot(forecast)\n",
    "x_labels = [\n",
    "    \"Python\\nJSON\",\n",
    "    \"Python\\nPandas\",\n",
    "    \"Wayang\\nJSON\",\n",
    "    \"Java\\nJSON\"\n",
    "]\n",
    "plt.xticks(range(1, len(x_labels) + 1), x_labels)\n",
    "plt.title('Execution Time for Forecast Query')\n",
    "plt.ylabel('Execution Time (seconds)')\n",
    "plt.grid(axis='y', linestyle='--', alpha=0.7)\n",
    "\n",
    "plt.show()"
   ]
  },
  {
   "cell_type": "code",
   "execution_count": null,
   "metadata": {},
   "outputs": [],
   "source": [
    "data1 = jsonq[jsonq['step'] == \"HubSpot Query\"]['execution_time_seconds']\n",
    "data2 = pandasq[pandasq['step'] == \"HubSpot Query\"]['execution_time_seconds']\n",
    "data3 = postq[postq['step'] == \"HubSpot Query\"]['execution_time_seconds']\n",
    "data4 = wayang_jsonq[wayang_jsonq['step'] == 'HubSpot Query']['execution_time_seconds']\n",
    "data5 = wayang_postq[wayang_postq['step'] == 'HubSpot Query']['execution_time_seconds']\n",
    "data6 = java_jsonq[java_jsonq['step'] == 'HubSpot Query']['execution_time_seconds']\n",
    "data7 = java_postq[java_postq['step'] == 'HubSpot Query']['execution_time_seconds']\n",
    "\n",
    "\n",
    "hubspot = [data1, data2,data3, data4, data5, data6, data7]\n",
    "\n",
    "plt.figure(figsize=(10, 6))\n",
    "plt.boxplot(hubspot)\n",
    "x_labels = [\n",
    "    \"Python\\nJSON\",\n",
    "    \"Python\\nPandas\",\n",
    "    \"Python\\nPOST\",\n",
    "    \"Wayang\\nJSON\",\n",
    "    \"Wayang\\nPOST\",\n",
    "    \"Java\\nJSON\",\n",
    "    \"Java\\nPOST\",\n",
    "]\n",
    "plt.xticks(range(1, len(x_labels) + 1), x_labels)\n",
    "plt.title('Execution Time for HubSpot Query')\n",
    "plt.ylabel('Execution Time (seconds)')\n",
    "plt.grid(axis='y', linestyle='--', alpha=0.7)\n",
    "\n",
    "plt.show()"
   ]
  },
  {
   "cell_type": "code",
   "execution_count": null,
   "metadata": {},
   "outputs": [],
   "source": [
    "json_filtered_api = jsonq[jsonq['step'] == \"Forecast API\"]\n",
    "pandas_filtered_api = pandasq[pandasq['step'] == \"Forecast API\"]\n",
    "json_filtered_query = jsonq[jsonq['step'] == \"Forecast Entire Query Process\"]\n",
    "pandas_filtered_query = pandasq[pandasq['step'] == \"Forecast Entire Query Process\"]\n",
    "\n",
    "wayang_json_filtered_api = wayang_jsonq_api[wayang_jsonq_api['base_url'] == \"api.forecastapp.com\"]\n",
    "# wayang_post_filtered_api = wayang_postq_api[wayang_postq_api['base_url'] == \"api.forecastapp.com\"]\n",
    "wayang_json_filtered_query = wayang_jsonq[wayang_jsonq['step'] == \"Forecast Entire Query Process\"]\n",
    "# wayang_post_filtered_query = wayang_postq[wayang_postq['step'] == \"Forecast Entire Query Process\"]\n",
    "\n",
    "java_json_filtered_api = java_jsonq_api[java_jsonq_api['base_url'] == \"api.forecastapp.com\"]\n",
    "# java_post_filtered_api = java_postq_api[java_postq_api['base_url'] == \"api.forecastapp.com\"]\n",
    "java_json_filtered_query = java_jsonq[java_jsonq['step'] == \"Forecast Entire Query Process\"]\n",
    "# java_post_filtered_query = java_postq[java_postq['step'] == \"Forecast Entire Query Process\"]\n",
    "\n",
    "json_mean_execution = json_filtered_query['execution_time_seconds'].mean()\n",
    "json_mean_latency = json_filtered_api['latency_seconds'].mean()\n",
    "pandas_mean_execution = pandas_filtered_query['execution_time_seconds'].mean()\n",
    "pandas_mean_latency = pandas_filtered_api['latency_seconds'].mean()\n",
    "\n",
    "wayang_json_mean_execution = wayang_json_filtered_query['execution_time_seconds'].mean()\n",
    "wayang_json_mean_latency = wayang_json_filtered_api['latency_seconds'].mean()\n",
    "# wayang_post_mean_execution = wayang_post_filtered_query['execution_time_seconds'].mean()\n",
    "# wayang_post_mean_latency = wayang_post_filtered_api['latency_seconds'].mean()\n",
    "\n",
    "java_json_mean_execution = java_json_filtered_query['execution_time_seconds'].mean()\n",
    "java_json_mean_latency = java_json_filtered_api['latency_seconds'].mean()\n",
    "# java_post_mean_execution = java_post_filtered_query['execution_time_seconds'].mean()\n",
    "# java_post_mean_latency = java_post_filtered_api['latency_seconds'].mean()\n",
    "\n",
    "latency_execution_ratios = [\n",
    "    json_mean_latency / json_mean_execution,\n",
    "    pandas_mean_latency / pandas_mean_execution,\n",
    "    wayang_json_mean_latency / wayang_json_mean_execution,\n",
    "    # wayang_post_mean_latency / wayang_post_mean_execution,\n",
    "    java_json_mean_latency / java_json_mean_execution,\n",
    "    # java_post_mean_latency / java_post_mean_execution\n",
    "]\n",
    "\n",
    "# Calculating the mean of all these ratios\n",
    "mean_latency_execution_ratio = sum(latency_execution_ratios) / len(latency_execution_ratios)\n",
    "print(mean_latency_execution_ratio)\n",
    "\n",
    "\n",
    "sources = ['Python JSON', 'Python Pandas', 'Wayang JSON', 'Java JSON']\n",
    "execution_means = [json_mean_execution, pandas_mean_execution, wayang_json_mean_execution, java_json_mean_execution]\n",
    "latency_means = [json_mean_latency, pandas_mean_latency, wayang_json_mean_latency, java_json_mean_latency]\n",
    "\n",
    "x = np.arange(len(sources)) \n",
    "width = 0.35  \n",
    "\n",
    "fig, ax = plt.subplots(figsize=(10, 6))\n",
    "\n",
    "execution_bars = ax.bar(x - width/2, execution_means, width, label='Total Execution Time', color='blue')\n",
    "latency_bars = ax.bar(x + width/2, latency_means, width, label='API Latency', color='lightblue')\n",
    "\n",
    "ax.set_ylabel('Execution Time and API Latency (seconds)')\n",
    "ax.set_title('Forecast Pipeline Mean Execution Time against API Latency')\n",
    "ax.set_xticks(x)\n",
    "x_labels = [\n",
    "    \"Python\\nJSON\",\n",
    "    \"Python\\nPandas\",\n",
    "    \"Wayang\\nJSON\",\n",
    "    \"Java\\nJSON\"\n",
    "]\n",
    "ax.set_xticklabels(x_labels)\n",
    "ax.legend()\n",
    "\n",
    "plt.grid(axis='y', linestyle='--', alpha=0.7)\n",
    "plt.show()"
   ]
  },
  {
   "cell_type": "code",
   "execution_count": null,
   "metadata": {},
   "outputs": [],
   "source": [
    "json_filtered_api = jsonq[jsonq['step'] == \"HubSpot API\"]\n",
    "pandas_filtered_api = pandasq[pandasq['step'] == \"HubSpot API\"]\n",
    "post_filtered_api = postq[postq['step'] == \"HubSpot POST API\"]\n",
    "\n",
    "json_filtered_query = jsonq[jsonq['step'] == \"HubSpot Entire Query Process\"]\n",
    "pandas_filtered_query = pandasq[pandasq['step'] == \"HubSpot Entire Query Process\"]\n",
    "post_filtered_query = postq[postq['step'] == \"HubSpot Entire Query Process\"]\n",
    "\n",
    "wayang_json_filtered_api = wayang_jsonq_api[wayang_jsonq_api['base_url'] == \"api.hubapi.com\"]\n",
    "wayang_post_filtered_api = wayang_postq_api[wayang_postq_api['base_url'] == \"api.hubapi.com\"]\n",
    "wayang_json_filtered_query = wayang_jsonq[wayang_jsonq['step'] == \"HubSpot Entire Query Process\"]\n",
    "wayang_post_filtered_query = wayang_postq[wayang_postq['step'] == \"HubSpot Entire Query Process\"]\n",
    "\n",
    "java_json_filtered_api = java_jsonq_api[java_jsonq_api['base_url'] == \"api.hubapi.com\"]\n",
    "java_post_filtered_api = java_postq_api[java_postq_api['base_url'] == \"api.hubapi.com\"]\n",
    "java_json_filtered_query = java_jsonq[java_jsonq['step'] == \"Hubspot Entire Query Process\"]\n",
    "java_post_filtered_query = java_postq[java_postq['step'] == \"Hubspot Entire Query Process\"]\n",
    "\n",
    "json_mean_execution = json_filtered_query['execution_time_seconds'].mean()\n",
    "json_mean_latency = json_filtered_api['latency_seconds'].mean()\n",
    "pandas_mean_execution = pandas_filtered_query['execution_time_seconds'].mean()\n",
    "pandas_mean_latency = pandas_filtered_api['latency_seconds'].mean()\n",
    "post_mean_execution = post_filtered_query['execution_time_seconds'].mean()\n",
    "post_mean_latency = post_filtered_api['latency_seconds'].mean()\n",
    "\n",
    "wayang_json_mean_execution = wayang_json_filtered_query['execution_time_seconds'].mean()\n",
    "wayang_json_mean_latency = wayang_json_filtered_api['latency_seconds'].mean()\n",
    "wayang_post_mean_execution = wayang_post_filtered_query['execution_time_seconds'].mean()\n",
    "wayang_post_mean_latency = wayang_post_filtered_api['latency_seconds'].mean()\n",
    "\n",
    "java_json_mean_execution = java_json_filtered_query['execution_time_seconds'].mean()\n",
    "java_json_mean_latency = java_json_filtered_api['latency_seconds'].mean()\n",
    "java_post_mean_execution = java_post_filtered_query['execution_time_seconds'].mean()\n",
    "java_post_mean_latency = java_post_filtered_api['latency_seconds'].mean()\n",
    "\n",
    "latency_execution_ratios = [\n",
    "    json_mean_latency / json_mean_execution,\n",
    "    pandas_mean_latency / pandas_mean_execution,\n",
    "    post_mean_latency / post_mean_execution,\n",
    "    wayang_json_mean_latency / wayang_json_mean_execution,\n",
    "    wayang_post_mean_latency / wayang_post_mean_execution,\n",
    "    java_json_mean_latency / java_json_mean_execution,\n",
    "    java_post_mean_latency / java_post_mean_execution\n",
    "]\n",
    "\n",
    "# Calculating the mean of all these ratios\n",
    "mean_latency_execution_ratio = sum(latency_execution_ratios) / len(latency_execution_ratios)\n",
    "print(mean_latency_execution_ratio)\n",
    "\n",
    "sources = ['Python JSON', 'Python Pandas', 'Python POST','Wayang JSON', 'Wayang POST', 'Java JSON','Java POST']\n",
    "execution_means = [json_mean_execution, pandas_mean_execution,post_mean_execution, wayang_json_mean_execution, wayang_post_mean_execution, java_json_mean_execution, java_post_mean_execution]\n",
    "latency_means = [json_mean_latency, pandas_mean_latency,post_mean_latency,wayang_json_mean_latency, wayang_post_mean_latency, java_json_mean_latency, java_post_mean_latency]\n",
    "\n",
    "x = np.arange(len(sources)) \n",
    "width = 0.35  \n",
    "\n",
    "fig, ax = plt.subplots(figsize=(10, 6))\n",
    "\n",
    "execution_bars = ax.bar(x - width/2, execution_means, width, label='Total Execution Time', color='blue')\n",
    "latency_bars = ax.bar(x + width/2, latency_means, width, label='API Latency', color='lightblue')\n",
    "\n",
    "ax.set_ylabel('Execution Time and API Latency (seconds)')\n",
    "ax.set_title('HubSpot Pipeline Mean Execution Time against API Latency')\n",
    "ax.set_xticks(x)\n",
    "x_labels = [\n",
    "    \"Python\\nJSON\",\n",
    "    \"Python\\nPandas\",\n",
    "    \"Python\\nPOST\",\n",
    "    \"Wayang\\nJSON\",\n",
    "    \"Wayang\\nPOST\",\n",
    "    \"Java\\nJSON\",\n",
    "    \"Java\\nPOST\",\n",
    "]\n",
    "ax.set_xticklabels(x_labels)\n",
    "ax.legend()\n",
    "\n",
    "plt.grid(axis='y', linestyle='--', alpha=0.7)\n",
    "plt.show()"
   ]
  },
  {
   "cell_type": "code",
   "execution_count": null,
   "metadata": {},
   "outputs": [],
   "source": [
    "json_filtered_api = jsonq[jsonq['step'] == \"Forecast API\"]\n",
    "pandas_filtered_api = pandasq[pandasq['step'] == \"Forecast API\"]\n",
    "json_filtered_query = jsonq[jsonq['step'] == \"Forecast Query\"]\n",
    "pandas_filtered_query = pandasq[pandasq['step'] == \"Forecast Query\"]\n",
    "\n",
    "wayang_json_filtered_api = wayang_jsonq_api[wayang_jsonq_api['base_url'] == \"api.forecastapp.com\"]\n",
    "# wayang_post_filtered_api = wayang_postq_api[wayang_postq_api['base_url'] == \"api.forecastapp.com\"]\n",
    "wayang_json_filtered_query = wayang_jsonq[wayang_jsonq['step'] == \"Forecast Query\"]['execution_time_seconds'].reset_index(drop = True) - wayang_jsonq_api[wayang_jsonq_api['base_url'] == \"api.forecastapp.com\"]['latency_seconds'].reset_index(drop=True)\n",
    "# wayang_post_filtered_query = wayang_postq[wayang_postq['step'] == \"Forecast Query\"]['execution_time_seconds'].reset_index(drop = True) - wayang_postq_api[wayang_postq_api['base_url'] == \"api.forecastapp.com\"]['latency_seconds'].reset_index(drop=True)\n",
    "\n",
    "java_json_filtered_api = java_jsonq_api[java_jsonq_api['base_url'] == \"api.forecastapp.com\"]\n",
    "# java_post_filtered_api = java_postq_api[java_postq_api['base_url'] == \"api.forecastapp.com\"]\n",
    "java_json_filtered_query = java_jsonq[java_jsonq['step'] == \"Forecast Query\"]\n",
    "# java_post_filtered_query = java_postq[java_postq['step'] == \"Forecast Query\"]\n",
    "\n",
    "json_mean_execution = json_filtered_query['execution_time_seconds'].mean()\n",
    "json_mean_latency = json_filtered_api['latency_seconds'].mean()\n",
    "pandas_mean_execution = pandas_filtered_query['execution_time_seconds'].mean()\n",
    "pandas_mean_latency = pandas_filtered_api['latency_seconds'].mean()\n",
    "\n",
    "wayang_json_mean_execution = wayang_json_filtered_query.mean()\n",
    "wayang_json_mean_latency = wayang_json_filtered_api['latency_seconds'].mean()\n",
    "# wayang_post_mean_execution = wayang_post_filtered_query.mean()\n",
    "# wayang_post_mean_latency = wayang_post_filtered_api['latency_seconds'].mean()\n",
    "\n",
    "java_json_mean_execution = java_json_filtered_query['execution_time_seconds'].mean()\n",
    "java_json_mean_latency = java_json_filtered_api['latency_seconds'].mean()\n",
    "# java_post_mean_execution = java_post_filtered_query['execution_time_seconds'].mean()\n",
    "# java_post_mean_latency = java_post_filtered_api['latency_seconds'].mean()\n",
    "\n",
    "sources = ['Python JSON', 'Python Pandas', 'Wayang JSON', 'Java JSON']\n",
    "execution_means = [json_mean_execution, pandas_mean_execution, wayang_json_mean_execution, java_json_mean_execution]\n",
    "latency_means = [json_mean_latency, pandas_mean_latency, wayang_json_mean_latency, java_json_mean_latency]\n",
    "\n",
    "x = np.arange(len(sources)) \n",
    "width = 0.5 \n",
    "\n",
    "# Plotting\n",
    "fig, ax = plt.subplots(figsize=(10, 6))\n",
    "latency_bars = ax.bar(x, latency_means, width, label='API Latency', color='lightblue')\n",
    "execution_bars = ax.bar(x, execution_means, width, bottom=latency_means, label='Query Execution Time', color='blue')\n",
    "\n",
    "# Add totals at the top of the stacked bars\n",
    "totals = [latency + execution for latency, execution in zip(latency_means, execution_means)]\n",
    "for i, total in enumerate(totals):\n",
    "    ax.text(x[i], total + 0.005, f'{total:.2f}', ha='center', va='bottom', fontsize=10)\n",
    "\n",
    "# Labeling the chart\n",
    "ax.set_ylabel('Execution Time (seconds)')\n",
    "ax.set_title('Forecast Mean Execution Time including API Latency')\n",
    "ax.set_xticks(x)\n",
    "x_labels = [\n",
    "    \"Python\\nJSON\",\n",
    "    \"Python\\nPandas\",\n",
    "    \"Wayang\\nJSON\",\n",
    "    \"Java\\nJSON\",\n",
    "]\n",
    "ax.set_xticklabels(x_labels)\n",
    "ax.legend()\n",
    "\n",
    "# Grid and display\n",
    "plt.grid(axis='y', linestyle='--', alpha=0.7)\n",
    "plt.show()"
   ]
  },
  {
   "cell_type": "code",
   "execution_count": null,
   "metadata": {},
   "outputs": [],
   "source": [
    "json_filtered_api = jsonq[jsonq['step'] == \"HubSpot API\"]\n",
    "pandas_filtered_api = pandasq[pandasq['step'] == \"HubSpot API\"]\n",
    "post_filtered_api = postq[postq['step'] == \"HubSpot POST API\"]\n",
    "\n",
    "json_filtered_query = jsonq[jsonq['step'] == \"HubSpot Query\"]\n",
    "pandas_filtered_query = pandasq[pandasq['step'] == \"HubSpot Query\"]\n",
    "post_filtered_query = postq[postq['step'] == \"HubSpot Query\"]\n",
    "\n",
    "wayang_json_filtered_api = wayang_jsonq_api[wayang_jsonq_api['base_url'] == \"api.hubapi.com\"]\n",
    "wayang_post_filtered_api = wayang_postq_api[wayang_postq_api['base_url'] == \"api.hubapi.com\"]\n",
    "wayang_json_filtered_query = wayang_jsonq[wayang_jsonq['step'] == \"HubSpot Query\"]\n",
    "wayang_post_filtered_query = wayang_postq[wayang_postq['step'] == \"HubSpot Query\"]\n",
    "\n",
    "java_json_filtered_api = java_jsonq_api[java_jsonq_api['base_url'] == \"api.hubapi.com\"]\n",
    "java_post_filtered_api = java_postq_api[java_postq_api['base_url'] == \"api.hubapi.com\"]\n",
    "java_json_filtered_query = java_jsonq[java_jsonq['step'] == \"HubSpot Query\"]\n",
    "java_post_filtered_query = java_postq[java_postq['step'] == \"HubSpot Query\"]\n",
    "\n",
    "json_mean_execution = json_filtered_query['execution_time_seconds'].mean()\n",
    "json_mean_latency = json_filtered_api['latency_seconds'].mean()\n",
    "pandas_mean_execution = pandas_filtered_query['execution_time_seconds'].mean()\n",
    "pandas_mean_latency = pandas_filtered_api['latency_seconds'].mean()\n",
    "post_mean_execution = post_filtered_query['execution_time_seconds'].mean()\n",
    "post_mean_latency = post_filtered_api['latency_seconds'].mean()\n",
    "\n",
    "wayang_json_mean_execution = wayang_json_filtered_query['execution_time_seconds'].mean()\n",
    "wayang_json_mean_latency = wayang_json_filtered_api['latency_seconds'].mean()\n",
    "wayang_post_mean_execution = wayang_post_filtered_query['execution_time_seconds'].mean()\n",
    "wayang_post_mean_latency = wayang_post_filtered_api['latency_seconds'].mean()\n",
    "\n",
    "java_json_mean_execution = java_json_filtered_query['execution_time_seconds'].mean()\n",
    "java_json_mean_latency = java_json_filtered_api['latency_seconds'].mean()\n",
    "java_post_mean_execution = java_post_filtered_query['execution_time_seconds'].mean()\n",
    "java_post_mean_latency = java_post_filtered_api['latency_seconds'].mean()\n",
    "\n",
    "sources = ['Python JSON', 'Python Pandas', 'Python POST','Wayang JSON', 'Wayang POST', 'Java JSON','Java POST']\n",
    "execution_means = [json_mean_execution, pandas_mean_execution,post_mean_execution, wayang_json_mean_execution, wayang_post_mean_execution, java_json_mean_execution, java_post_mean_execution]\n",
    "latency_means = [json_mean_latency, pandas_mean_latency,post_mean_latency,wayang_json_mean_latency, wayang_post_mean_latency, java_json_mean_latency, java_post_mean_latency]\n",
    "\n",
    "print(wayang_post_mean_execution)\n",
    "print(wayang_post_mean_latency)\n",
    "\n",
    "x = np.arange(len(sources)) \n",
    "width = 0.5 \n",
    "\n",
    "# Plotting\n",
    "fig, ax = plt.subplots(figsize=(10, 6))\n",
    "latency_bars = ax.bar(x, latency_means, width, label='API Latency', color='lightblue')\n",
    "execution_bars = ax.bar(x, execution_means, width, bottom=latency_means, label='Query Execution Time', color='blue')\n",
    "\n",
    "# Add totals at the top of the stacked bars\n",
    "totals = [latency + execution for latency, execution in zip(latency_means, execution_means)]\n",
    "for i, total in enumerate(totals):\n",
    "    ax.text(x[i], total + 0.01, f'{total:.2f}', ha='center', va='bottom', fontsize=10)\n",
    "\n",
    "# Labeling the chart\n",
    "ax.set_ylabel('Execution Time (seconds)')\n",
    "ax.set_title('HubSpot Mean Execution Time including API Latency')\n",
    "ax.set_xticks(x)\n",
    "x_labels = [\n",
    "    \"Python\\nJSON\",\n",
    "    \"Python\\nPandas\",\n",
    "    \"Python\\nPOST\",\n",
    "    \"Wayang\\nJSON\",\n",
    "    \"Wayang\\nPOST\",\n",
    "    \"Java\\nJSON\",\n",
    "    \"Java\\nPOST\",\n",
    "]\n",
    "ax.set_xticklabels(x_labels)\n",
    "ax.legend()\n",
    "\n",
    "# Grid and display\n",
    "plt.grid(axis='y', linestyle='--', alpha=0.7)\n",
    "plt.show()"
   ]
  },
  {
   "cell_type": "markdown",
   "metadata": {},
   "source": [
    "### Table"
   ]
  },
  {
   "cell_type": "markdown",
   "metadata": {},
   "source": [
    "#### JSON"
   ]
  },
  {
   "cell_type": "code",
   "execution_count": null,
   "metadata": {},
   "outputs": [],
   "source": [
    "jsonq[jsonq['step'] == 'Forecast API']['latency_seconds'].describe()"
   ]
  },
  {
   "cell_type": "code",
   "execution_count": null,
   "metadata": {},
   "outputs": [],
   "source": [
    "jsonq[jsonq['step'] == 'HubSpot API']['latency_seconds'].describe()"
   ]
  },
  {
   "cell_type": "code",
   "execution_count": null,
   "metadata": {},
   "outputs": [],
   "source": [
    "jsonq[jsonq['step'] == 'Forecast Query']['execution_time_seconds'].describe()"
   ]
  },
  {
   "cell_type": "code",
   "execution_count": null,
   "metadata": {},
   "outputs": [],
   "source": [
    "jsonq[jsonq['step'] == 'HubSpot Query']['execution_time_seconds'].describe()"
   ]
  },
  {
   "cell_type": "code",
   "execution_count": null,
   "metadata": {},
   "outputs": [],
   "source": [
    "jsonq[jsonq['step'] == 'Forecast Entire Query Process']['execution_time_seconds'].describe()"
   ]
  },
  {
   "cell_type": "code",
   "execution_count": null,
   "metadata": {},
   "outputs": [],
   "source": [
    "jsonq[jsonq['step'] == 'HubSpot Entire Query Process']['execution_time_seconds'].describe()"
   ]
  },
  {
   "cell_type": "markdown",
   "metadata": {},
   "source": [
    "#### Pandas"
   ]
  },
  {
   "cell_type": "code",
   "execution_count": null,
   "metadata": {},
   "outputs": [],
   "source": [
    "pandasq[pandasq['step'] == 'Forecast API']['latency_seconds'].describe()"
   ]
  },
  {
   "cell_type": "code",
   "execution_count": null,
   "metadata": {},
   "outputs": [],
   "source": [
    "pandasq[pandasq['step'] == 'HubSpot API']['latency_seconds'].describe()"
   ]
  },
  {
   "cell_type": "code",
   "execution_count": null,
   "metadata": {},
   "outputs": [],
   "source": [
    "pandasq[pandasq['step'] == 'Forecast Query']['execution_time_seconds'].describe()"
   ]
  },
  {
   "cell_type": "code",
   "execution_count": null,
   "metadata": {},
   "outputs": [],
   "source": [
    "pandasq[pandasq['step'] == 'HubSpot Query']['execution_time_seconds'].describe()"
   ]
  },
  {
   "cell_type": "code",
   "execution_count": null,
   "metadata": {},
   "outputs": [],
   "source": [
    "pandasq[pandasq['step'] == 'Forecast Entire Query Process']['execution_time_seconds'].describe()"
   ]
  },
  {
   "cell_type": "code",
   "execution_count": null,
   "metadata": {},
   "outputs": [],
   "source": [
    "pandasq[pandasq['step'] == 'HubSpot Entire Query Process']['execution_time_seconds'].describe()"
   ]
  },
  {
   "cell_type": "markdown",
   "metadata": {},
   "source": [
    "#### POST"
   ]
  },
  {
   "cell_type": "code",
   "execution_count": null,
   "metadata": {},
   "outputs": [],
   "source": [
    "postq[postq['step'] == 'Forecast API']['latency_seconds'].describe()"
   ]
  },
  {
   "cell_type": "code",
   "execution_count": null,
   "metadata": {},
   "outputs": [],
   "source": [
    "postq[postq['step'] == 'HubSpot POST API']['latency_seconds'].describe()"
   ]
  },
  {
   "cell_type": "code",
   "execution_count": null,
   "metadata": {},
   "outputs": [],
   "source": [
    "postq[postq['step'] == 'Forecast Query']['execution_time_seconds'].describe()"
   ]
  },
  {
   "cell_type": "code",
   "execution_count": null,
   "metadata": {},
   "outputs": [],
   "source": [
    "postq[postq['step'] == 'HubSpot Query']['execution_time_seconds'].describe()"
   ]
  },
  {
   "cell_type": "code",
   "execution_count": null,
   "metadata": {},
   "outputs": [],
   "source": [
    "postq[postq['step'] == 'Forecast Entire Query Process']['execution_time_seconds'].describe()"
   ]
  },
  {
   "cell_type": "code",
   "execution_count": null,
   "metadata": {},
   "outputs": [],
   "source": [
    "postq[postq['step'] == 'HubSpot Entire Query Process']['execution_time_seconds'].describe()"
   ]
  },
  {
   "cell_type": "markdown",
   "metadata": {},
   "source": [
    "### Wayang"
   ]
  },
  {
   "cell_type": "markdown",
   "metadata": {},
   "source": [
    "#### JSON"
   ]
  },
  {
   "cell_type": "code",
   "execution_count": null,
   "metadata": {},
   "outputs": [],
   "source": [
    "wayang_jsonq_api[wayang_jsonq_api['base_url'] == 'api.forecastapp.com']['latency_seconds'].describe()"
   ]
  },
  {
   "cell_type": "code",
   "execution_count": null,
   "metadata": {},
   "outputs": [],
   "source": [
    "wayang_jsonq_api[wayang_jsonq_api['base_url'] == 'api.hubapi.com']['latency_seconds'].describe()"
   ]
  },
  {
   "cell_type": "code",
   "execution_count": null,
   "metadata": {},
   "outputs": [],
   "source": [
    "(wayang_jsonq[wayang_jsonq['step'] == \"Forecast Query\"]['execution_time_seconds'].reset_index(drop = True) - wayang_jsonq_api[wayang_jsonq_api['base_url'] == \"api.forecastapp.com\"]['latency_seconds'].reset_index(drop=True)).describe()"
   ]
  },
  {
   "cell_type": "code",
   "execution_count": null,
   "metadata": {},
   "outputs": [],
   "source": [
    "wayang_jsonq[wayang_jsonq['step'] == 'HubSpot Query'].describe()"
   ]
  },
  {
   "cell_type": "code",
   "execution_count": null,
   "metadata": {},
   "outputs": [],
   "source": [
    "wayang_jsonq[wayang_jsonq['step'] == 'Forecast Entire Query Process'].describe()"
   ]
  },
  {
   "cell_type": "code",
   "execution_count": null,
   "metadata": {},
   "outputs": [],
   "source": [
    "wayang_jsonq[wayang_jsonq['step'] == 'HubSpot Entire Query Process'].describe()"
   ]
  },
  {
   "cell_type": "markdown",
   "metadata": {},
   "source": [
    "#### POST"
   ]
  },
  {
   "cell_type": "code",
   "execution_count": null,
   "metadata": {},
   "outputs": [],
   "source": [
    "wayang_postq_api[wayang_postq_api['base_url'] == 'api.forecastapp.com']['latency_seconds'].describe()"
   ]
  },
  {
   "cell_type": "code",
   "execution_count": null,
   "metadata": {},
   "outputs": [],
   "source": [
    "wayang_postq_api[wayang_postq_api['base_url'] == 'api.hubapi.com']['latency_seconds'].describe()"
   ]
  },
  {
   "cell_type": "code",
   "execution_count": null,
   "metadata": {},
   "outputs": [],
   "source": [
    "(wayang_postq[wayang_postq['step'] == \"Forecast Query\"]['execution_time_seconds'].reset_index(drop = True) - wayang_postq_api[wayang_postq_api['base_url'] == \"api.forecastapp.com\"]['latency_seconds'].reset_index(drop=True)).describe()"
   ]
  },
  {
   "cell_type": "code",
   "execution_count": null,
   "metadata": {},
   "outputs": [],
   "source": [
    "wayang_postq[wayang_postq['step'] == 'HubSpot Query'].describe()"
   ]
  },
  {
   "cell_type": "code",
   "execution_count": null,
   "metadata": {},
   "outputs": [],
   "source": [
    "wayang_postq[wayang_postq['step'] == 'Forecast Entire Query Process'].describe()"
   ]
  },
  {
   "cell_type": "code",
   "execution_count": null,
   "metadata": {},
   "outputs": [],
   "source": [
    "wayang_postq[wayang_postq['step'] == 'HubSpot Entire Query Process'].describe()"
   ]
  },
  {
   "cell_type": "markdown",
   "metadata": {},
   "source": [
    "### Java"
   ]
  },
  {
   "cell_type": "markdown",
   "metadata": {},
   "source": [
    "#### JSON"
   ]
  },
  {
   "cell_type": "code",
   "execution_count": null,
   "metadata": {},
   "outputs": [],
   "source": [
    "java_jsonq_api[java_jsonq_api['base_url'] == 'api.forecastapp.com']['latency_seconds'].describe()"
   ]
  },
  {
   "cell_type": "code",
   "execution_count": null,
   "metadata": {},
   "outputs": [],
   "source": [
    "java_jsonq_api[java_jsonq_api['base_url'] == 'api.hubapi.com']['latency_seconds'].describe()"
   ]
  },
  {
   "cell_type": "code",
   "execution_count": null,
   "metadata": {},
   "outputs": [],
   "source": [
    "java_jsonq[java_jsonq['step'] == 'Forecast Query']['execution_time_seconds'].describe()"
   ]
  },
  {
   "cell_type": "code",
   "execution_count": null,
   "metadata": {},
   "outputs": [],
   "source": [
    "java_jsonq[java_jsonq['step'] == 'HubSpot Query'].describe()"
   ]
  },
  {
   "cell_type": "code",
   "execution_count": null,
   "metadata": {},
   "outputs": [],
   "source": [
    "java_jsonq[java_jsonq['step'] == 'Forecast Entire Query Process'].describe()"
   ]
  },
  {
   "cell_type": "code",
   "execution_count": null,
   "metadata": {},
   "outputs": [],
   "source": [
    "java_jsonq[java_jsonq['step'] == 'Hubspot Entire Query Process'].describe()"
   ]
  },
  {
   "cell_type": "markdown",
   "metadata": {},
   "source": [
    "#### POST"
   ]
  },
  {
   "cell_type": "code",
   "execution_count": null,
   "metadata": {},
   "outputs": [],
   "source": [
    "java_postq_api[java_postq_api['base_url'] == 'api.forecastapp.com']['latency_seconds'].describe()"
   ]
  },
  {
   "cell_type": "code",
   "execution_count": null,
   "metadata": {},
   "outputs": [],
   "source": [
    "java_postq_api[java_postq_api['base_url'] == 'api.hubapi.com']['latency_seconds'].describe()"
   ]
  },
  {
   "cell_type": "code",
   "execution_count": null,
   "metadata": {},
   "outputs": [],
   "source": [
    "java_postq[java_postq['step'] == 'Forecast Query']['execution_time_seconds'].describe()"
   ]
  },
  {
   "cell_type": "code",
   "execution_count": null,
   "metadata": {},
   "outputs": [],
   "source": [
    "java_postq[java_postq['step'] == 'HubSpot Query'].describe()"
   ]
  },
  {
   "cell_type": "code",
   "execution_count": null,
   "metadata": {},
   "outputs": [],
   "source": [
    "java_postq[java_postq['step'] == 'Forecast Entire Query Process'].describe()"
   ]
  },
  {
   "cell_type": "code",
   "execution_count": null,
   "metadata": {},
   "outputs": [],
   "source": [
    "java_postq[java_postq['step'] == 'Hubspot Entire Query Process'].describe()"
   ]
  },
  {
   "cell_type": "markdown",
   "metadata": {},
   "source": [
    "### Resource consumption"
   ]
  },
  {
   "cell_type": "markdown",
   "metadata": {},
   "source": [
    "#### Python"
   ]
  },
  {
   "cell_type": "code",
   "execution_count": null,
   "metadata": {},
   "outputs": [],
   "source": [
    "python_jsonq_r = pd.read_json('Results/Python/JSON/resource_usage.json')"
   ]
  },
  {
   "cell_type": "code",
   "execution_count": null,
   "metadata": {},
   "outputs": [],
   "source": [
    "python_jsonq_r[python_jsonq_r['cpu_percent'] != 0.0][['cpu_percent','memory_percent']].describe()"
   ]
  },
  {
   "cell_type": "code",
   "execution_count": null,
   "metadata": {},
   "outputs": [],
   "source": [
    "python_pandasq_r = pd.read_json('Results/Python/PANDAS/resource_usage.json')"
   ]
  },
  {
   "cell_type": "code",
   "execution_count": null,
   "metadata": {},
   "outputs": [],
   "source": [
    "python_pandasq_r[python_pandasq_r['cpu_percent'] != 0.0][['cpu_percent','memory_percent']].describe()"
   ]
  },
  {
   "cell_type": "code",
   "execution_count": null,
   "metadata": {},
   "outputs": [],
   "source": [
    "python_postq_r = pd.read_json('Results/Python/POST/resource_usage.json')"
   ]
  },
  {
   "cell_type": "code",
   "execution_count": null,
   "metadata": {},
   "outputs": [],
   "source": [
    "python_postq_r[python_postq_r['cpu_percent'] != 0.0][['cpu_percent','memory_percent']].describe()"
   ]
  },
  {
   "cell_type": "markdown",
   "metadata": {},
   "source": [
    "#### Wayang"
   ]
  },
  {
   "cell_type": "code",
   "execution_count": null,
   "metadata": {},
   "outputs": [],
   "source": [
    "wayang_jsonq_r = pd.read_json('Results/Wayang/JSON/resource_usage.json')"
   ]
  },
  {
   "cell_type": "code",
   "execution_count": null,
   "metadata": {},
   "outputs": [],
   "source": [
    "wayang_jsonq_r[['cpu_percent','memory_percent']].describe()"
   ]
  },
  {
   "cell_type": "code",
   "execution_count": null,
   "metadata": {},
   "outputs": [],
   "source": [
    "wayang_postq_r = pd.read_json('Results/Wayang/POST/resource_usage.json')"
   ]
  },
  {
   "cell_type": "code",
   "execution_count": null,
   "metadata": {},
   "outputs": [],
   "source": [
    "wayang_postq_r[['cpu_percent','memory_percent']].describe()"
   ]
  },
  {
   "cell_type": "markdown",
   "metadata": {},
   "source": [
    "#### Java"
   ]
  },
  {
   "cell_type": "code",
   "execution_count": null,
   "metadata": {},
   "outputs": [],
   "source": [
    "java_jsonq_r = pd.read_json('Results/Standalone/JSON/resource_usage.json')"
   ]
  },
  {
   "cell_type": "code",
   "execution_count": null,
   "metadata": {},
   "outputs": [],
   "source": [
    "java_jsonq_r[['cpu_percent','memory_percent']].describe()"
   ]
  },
  {
   "cell_type": "code",
   "execution_count": null,
   "metadata": {},
   "outputs": [],
   "source": [
    "java_postq_r = pd.read_json('Results/Standalone/POST/resource_usage.json')"
   ]
  },
  {
   "cell_type": "code",
   "execution_count": null,
   "metadata": {},
   "outputs": [],
   "source": [
    "java_postq_r[['cpu_percent','memory_percent']].describe()"
   ]
  },
  {
   "cell_type": "markdown",
   "metadata": {},
   "source": [
    "#### Usage plot"
   ]
  },
  {
   "cell_type": "code",
   "execution_count": null,
   "metadata": {},
   "outputs": [],
   "source": [
    "combined_cpu_df = pd.DataFrame({\n",
    "    'Python JSON Query': python_jsonq_r[python_jsonq_r['cpu_percent'] != 0.0]['cpu_percent'],\n",
    "    'Python Pandas Query': python_pandasq_r[python_pandasq_r['cpu_percent'] != 0.0]['cpu_percent'],\n",
    "    'Python POST Query': python_postq_r[python_postq_r['cpu_percent'] != 0.0]['cpu_percent'],\n",
    "    'Wayang JSON Query': wayang_jsonq_r['cpu_percent'],\n",
    "    'Wayang POST Query': wayang_postq_r['cpu_percent'],\n",
    "    'Java JSON Query': java_jsonq_r['cpu_percent'],\n",
    "    'Java POST Query': java_postq_r['cpu_percent'],\n",
    "})"
   ]
  },
  {
   "cell_type": "code",
   "execution_count": null,
   "metadata": {},
   "outputs": [],
   "source": [
    "fig, axes = plt.subplots(1, 2, figsize=(16, 8), sharey=True)\n",
    "\n",
    "# Plot Group 1: Python Queries\n",
    "combined_cpu_df.iloc[:, :3].plot(\n",
    "    kind='line',\n",
    "    ax=axes[0],\n",
    "    alpha=0.5,\n",
    "    linewidth=1.5,\n",
    ")\n",
    "axes[0].set_title(\"Group 1: Python Queries\", fontsize=16, fontweight='bold', color='darkblue')\n",
    "axes[0].set_ylabel(\"CPU Utilization (%)\", fontsize=15)\n",
    "axes[0].grid(True, linestyle='--', linewidth=0.7, alpha=0.6)\n",
    "axes[0].legend(fontsize=12)\n",
    "axes[0].tick_params(axis='y', labelsize=14)  # Set font size for y-tick labels\n",
    "axes[0].tick_params(axis='x', labelsize=10)  # Set font size for y-tick labels\n",
    "\n",
    "\n",
    "# Plot Group 2: Wayang and Java Queries\n",
    "combined_cpu_df.iloc[:, 3:].plot(\n",
    "    kind='line',\n",
    "    ax=axes[1],\n",
    "    alpha=0.5,\n",
    "    linewidth=1.5,\n",
    ")\n",
    "axes[1].set_title(\"Group 2: Wayang and Java Queries\", fontsize=16, fontweight='bold', color='darkgreen')\n",
    "axes[1].set_ylabel(\"CPU Utilization (%)\", fontsize=10)\n",
    "axes[1].grid(True, linestyle='--', linewidth=0.7, alpha=0.6)\n",
    "axes[1].legend(fontsize=12)\n",
    "axes[1].tick_params(axis='x', labelsize=10)  # Set font size for y-tick labels\n",
    "\n",
    "\n",
    "plt.tight_layout(pad=3.0)\n",
    "plt.show()\n"
   ]
  }
 ],
 "metadata": {
  "kernelspec": {
   "display_name": ".venv",
   "language": "python",
   "name": "python3"
  },
  "language_info": {
   "codemirror_mode": {
    "name": "ipython",
    "version": 3
   },
   "file_extension": ".py",
   "mimetype": "text/x-python",
   "name": "python",
   "nbconvert_exporter": "python",
   "pygments_lexer": "ipython3",
   "version": "3.12.2"
  }
 },
 "nbformat": 4,
 "nbformat_minor": 2
}
