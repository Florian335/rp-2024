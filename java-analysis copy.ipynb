{
 "cells": [
  {
   "cell_type": "code",
   "execution_count": 1,
   "metadata": {},
   "outputs": [],
   "source": [
    "import pandas as pd\n",
    "import json\n",
    "import matplotlib.pyplot as plt\n",
    "import seaborn as sns\n",
    "import numpy as np\n",
    "from urllib.parse import urlparse"
   ]
  },
  {
   "cell_type": "code",
   "execution_count": 2,
   "metadata": {},
   "outputs": [],
   "source": [
    "jsonq = pd.read_json('json-queries-performance.json',convert_dates=False)"
   ]
  },
  {
   "cell_type": "code",
   "execution_count": 6,
   "metadata": {},
   "outputs": [
    {
     "data": {
      "text/html": [
       "<div>\n",
       "<style scoped>\n",
       "    .dataframe tbody tr th:only-of-type {\n",
       "        vertical-align: middle;\n",
       "    }\n",
       "\n",
       "    .dataframe tbody tr th {\n",
       "        vertical-align: top;\n",
       "    }\n",
       "\n",
       "    .dataframe thead th {\n",
       "        text-align: right;\n",
       "    }\n",
       "</style>\n",
       "<table border=\"1\" class=\"dataframe\">\n",
       "  <thead>\n",
       "    <tr style=\"text-align: right;\">\n",
       "      <th></th>\n",
       "      <th>step</th>\n",
       "      <th>execution_time_seconds</th>\n",
       "      <th>url</th>\n",
       "      <th>timestamp</th>\n",
       "    </tr>\n",
       "  </thead>\n",
       "  <tbody>\n",
       "    <tr>\n",
       "      <th>0</th>\n",
       "      <td>Forecast Query</td>\n",
       "      <td>0.014</td>\n",
       "      <td>Unknown</td>\n",
       "      <td>2024-12-05T21:38:22.593176Z</td>\n",
       "    </tr>\n",
       "    <tr>\n",
       "      <th>1</th>\n",
       "      <td>Forecast Entire Query Process</td>\n",
       "      <td>0.778</td>\n",
       "      <td>Unknown</td>\n",
       "      <td>2024-12-05T21:38:22.594092Z</td>\n",
       "    </tr>\n",
       "    <tr>\n",
       "      <th>2</th>\n",
       "      <td>HubSpot Query</td>\n",
       "      <td>0.011</td>\n",
       "      <td>Unknown</td>\n",
       "      <td>2024-12-05T21:38:24.187541Z</td>\n",
       "    </tr>\n",
       "    <tr>\n",
       "      <th>3</th>\n",
       "      <td>Hubspot Entire Query Process</td>\n",
       "      <td>1.593</td>\n",
       "      <td>Unknown</td>\n",
       "      <td>2024-12-05T21:38:24.188265Z</td>\n",
       "    </tr>\n",
       "    <tr>\n",
       "      <th>4</th>\n",
       "      <td>Forecast Query</td>\n",
       "      <td>0.006</td>\n",
       "      <td>Unknown</td>\n",
       "      <td>2024-12-05T21:41:20.506379Z</td>\n",
       "    </tr>\n",
       "    <tr>\n",
       "      <th>...</th>\n",
       "      <td>...</td>\n",
       "      <td>...</td>\n",
       "      <td>...</td>\n",
       "      <td>...</td>\n",
       "    </tr>\n",
       "    <tr>\n",
       "      <th>399</th>\n",
       "      <td>Hubspot Entire Query Process</td>\n",
       "      <td>1.375</td>\n",
       "      <td>Unknown</td>\n",
       "      <td>2024-12-05T21:44:57.144026Z</td>\n",
       "    </tr>\n",
       "    <tr>\n",
       "      <th>400</th>\n",
       "      <td>Forecast Query</td>\n",
       "      <td>0.001</td>\n",
       "      <td>Unknown</td>\n",
       "      <td>2024-12-05T21:44:57.806049Z</td>\n",
       "    </tr>\n",
       "    <tr>\n",
       "      <th>401</th>\n",
       "      <td>Forecast Entire Query Process</td>\n",
       "      <td>0.304</td>\n",
       "      <td>Unknown</td>\n",
       "      <td>2024-12-05T21:44:57.814116Z</td>\n",
       "    </tr>\n",
       "    <tr>\n",
       "      <th>402</th>\n",
       "      <td>HubSpot Query</td>\n",
       "      <td>0.001</td>\n",
       "      <td>Unknown</td>\n",
       "      <td>2024-12-05T21:44:59.283096Z</td>\n",
       "    </tr>\n",
       "    <tr>\n",
       "      <th>403</th>\n",
       "      <td>Hubspot Entire Query Process</td>\n",
       "      <td>1.471</td>\n",
       "      <td>Unknown</td>\n",
       "      <td>2024-12-05T21:44:59.290409Z</td>\n",
       "    </tr>\n",
       "  </tbody>\n",
       "</table>\n",
       "<p>404 rows × 4 columns</p>\n",
       "</div>"
      ],
      "text/plain": [
       "                              step  execution_time_seconds      url  \\\n",
       "0                   Forecast Query                   0.014  Unknown   \n",
       "1    Forecast Entire Query Process                   0.778  Unknown   \n",
       "2                    HubSpot Query                   0.011  Unknown   \n",
       "3     Hubspot Entire Query Process                   1.593  Unknown   \n",
       "4                   Forecast Query                   0.006  Unknown   \n",
       "..                             ...                     ...      ...   \n",
       "399   Hubspot Entire Query Process                   1.375  Unknown   \n",
       "400                 Forecast Query                   0.001  Unknown   \n",
       "401  Forecast Entire Query Process                   0.304  Unknown   \n",
       "402                  HubSpot Query                   0.001  Unknown   \n",
       "403   Hubspot Entire Query Process                   1.471  Unknown   \n",
       "\n",
       "                       timestamp  \n",
       "0    2024-12-05T21:38:22.593176Z  \n",
       "1    2024-12-05T21:38:22.594092Z  \n",
       "2    2024-12-05T21:38:24.187541Z  \n",
       "3    2024-12-05T21:38:24.188265Z  \n",
       "4    2024-12-05T21:41:20.506379Z  \n",
       "..                           ...  \n",
       "399  2024-12-05T21:44:57.144026Z  \n",
       "400  2024-12-05T21:44:57.806049Z  \n",
       "401  2024-12-05T21:44:57.814116Z  \n",
       "402  2024-12-05T21:44:59.283096Z  \n",
       "403  2024-12-05T21:44:59.290409Z  \n",
       "\n",
       "[404 rows x 4 columns]"
      ]
     },
     "execution_count": 6,
     "metadata": {},
     "output_type": "execute_result"
    }
   ],
   "source": [
    "jsonq"
   ]
  },
  {
   "cell_type": "code",
   "execution_count": 11,
   "metadata": {},
   "outputs": [
    {
     "data": {
      "text/plain": [
       "count    101.000000\n",
       "mean       0.348069\n",
       "std        0.198767\n",
       "min        0.236000\n",
       "25%        0.259000\n",
       "50%        0.281000\n",
       "75%        0.366000\n",
       "max        1.693000\n",
       "Name: execution_time_seconds, dtype: float64"
      ]
     },
     "execution_count": 11,
     "metadata": {},
     "output_type": "execute_result"
    }
   ],
   "source": [
    "jsonq[jsonq['step'] == \"Forecast Entire Query Process\"]['execution_time_seconds'].describe()"
   ]
  },
  {
   "cell_type": "code",
   "execution_count": 13,
   "metadata": {},
   "outputs": [
    {
     "data": {
      "text/plain": [
       "count    101.000000\n",
       "mean       1.581564\n",
       "std        0.405744\n",
       "min        1.100000\n",
       "25%        1.387000\n",
       "50%        1.457000\n",
       "75%        1.608000\n",
       "max        3.217000\n",
       "Name: execution_time_seconds, dtype: float64"
      ]
     },
     "execution_count": 13,
     "metadata": {},
     "output_type": "execute_result"
    }
   ],
   "source": [
    "jsonq[jsonq['step'] == \"Hubspot Entire Query Process\"]['execution_time_seconds'].describe()"
   ]
  },
  {
   "cell_type": "code",
   "execution_count": null,
   "metadata": {},
   "outputs": [],
   "source": [
    "postq = pd.read_json('java-results/POST2/post-queries-performance.json',convert_dates=False)"
   ]
  },
  {
   "cell_type": "code",
   "execution_count": null,
   "metadata": {},
   "outputs": [],
   "source": [
    "postq[postq['step'] == \"Forecast Entire Query Process\"]['execution_time_seconds'].describe()"
   ]
  },
  {
   "cell_type": "code",
   "execution_count": null,
   "metadata": {},
   "outputs": [],
   "source": [
    "postq[postq['step'] == \"HubSpot Entire Query Process\"]['execution_time_seconds'].describe()"
   ]
  },
  {
   "cell_type": "code",
   "execution_count": null,
   "metadata": {},
   "outputs": [],
   "source": [
    "jsonapilatency = pd.read_json('java-results/JSON2/json-api-latency.json',convert_dates=False)"
   ]
  },
  {
   "cell_type": "code",
   "execution_count": null,
   "metadata": {},
   "outputs": [],
   "source": [
    "jsonapilatency['base_url'] = jsonapilatency['url'].apply(lambda x: urlparse(x).netloc)"
   ]
  },
  {
   "cell_type": "code",
   "execution_count": null,
   "metadata": {},
   "outputs": [],
   "source": [
    "jsonapilatency['url_group'] = (jsonapilatency['base_url'] != jsonapilatency['base_url'].shift()).cumsum()\n"
   ]
  },
  {
   "cell_type": "code",
   "execution_count": null,
   "metadata": {},
   "outputs": [],
   "source": [
    "result = jsonapilatency.groupby('url_group').agg({\n",
    "    'base_url': 'first',  # Keep the base URL\n",
    "    'latency_seconds': 'sum'  # Sum latency seconds\n",
    "}).reset_index(drop=True)"
   ]
  },
  {
   "cell_type": "code",
   "execution_count": null,
   "metadata": {},
   "outputs": [],
   "source": [
    "result[result['base_url'] == 'api.forecastapp.com'].describe()"
   ]
  },
  {
   "cell_type": "code",
   "execution_count": null,
   "metadata": {},
   "outputs": [],
   "source": [
    "result[result['base_url'] == 'api.hubapi.com'].describe()"
   ]
  },
  {
   "cell_type": "code",
   "execution_count": null,
   "metadata": {},
   "outputs": [],
   "source": [
    "postapilatency = pd.read_json('java-results/POST2/post-api-latency.json',convert_dates=False)"
   ]
  },
  {
   "cell_type": "code",
   "execution_count": null,
   "metadata": {},
   "outputs": [],
   "source": [
    "postapilatency['base_url'] = postapilatency['url'].apply(lambda x: urlparse(x).netloc)\n"
   ]
  },
  {
   "cell_type": "code",
   "execution_count": null,
   "metadata": {},
   "outputs": [],
   "source": [
    "postapilatency['url_group'] = (postapilatency['base_url'] != postapilatency['base_url'].shift()).cumsum()"
   ]
  },
  {
   "cell_type": "code",
   "execution_count": null,
   "metadata": {},
   "outputs": [],
   "source": [
    "resultPOST = postapilatency.groupby('url_group').agg({\n",
    "    'base_url': 'first',  # Keep the base URL\n",
    "    'latency_seconds': 'sum'  # Sum latency seconds\n",
    "}).reset_index(drop=True)"
   ]
  },
  {
   "cell_type": "code",
   "execution_count": null,
   "metadata": {},
   "outputs": [],
   "source": [
    "resultPOST[resultPOST['base_url'] == 'api.forecastapp.com'].describe()"
   ]
  },
  {
   "cell_type": "code",
   "execution_count": null,
   "metadata": {},
   "outputs": [],
   "source": [
    "resultPOST[resultPOST['base_url'] == 'api.hubapi.com'].describe()"
   ]
  },
  {
   "cell_type": "code",
   "execution_count": null,
   "metadata": {},
   "outputs": [],
   "source": [
    "POSThubspotAPI_mean = resultPOST[resultPOST['base_url'] == 'api.hubapi.com']['latency_seconds'].mean()"
   ]
  },
  {
   "cell_type": "code",
   "execution_count": null,
   "metadata": {},
   "outputs": [],
   "source": [
    "POSThubspotQ_mean = postq[postq['step'] == 'HubSpot Entire Query Process']['execution_time_seconds'].mean()"
   ]
  },
  {
   "cell_type": "code",
   "execution_count": null,
   "metadata": {},
   "outputs": [],
   "source": [
    "POSThubspotQ_mean - POSThubspotAPI_mean"
   ]
  },
  {
   "cell_type": "code",
   "execution_count": null,
   "metadata": {},
   "outputs": [],
   "source": [
    "POSTforecastAPI_mean = resultPOST[resultPOST['base_url'] == 'api.forecastapp.com']['latency_seconds'].mean()"
   ]
  },
  {
   "cell_type": "code",
   "execution_count": null,
   "metadata": {},
   "outputs": [],
   "source": [
    "POSTforecastQ_mean =postq[postq['step'] == 'Forecast Entire Query Process']['execution_time_seconds'].mean()"
   ]
  },
  {
   "cell_type": "code",
   "execution_count": null,
   "metadata": {},
   "outputs": [],
   "source": [
    "POSTforecastQ_mean - POSTforecastAPI_mean"
   ]
  },
  {
   "cell_type": "code",
   "execution_count": null,
   "metadata": {},
   "outputs": [],
   "source": [
    "JSONhubspotAPI_mean = result[result['base_url'] == 'api.hubapi.com']['latency_seconds'].mean()"
   ]
  },
  {
   "cell_type": "code",
   "execution_count": null,
   "metadata": {},
   "outputs": [],
   "source": [
    "JSONhubspotQ_mean =jsonq[jsonq['step'] == 'HubSpot Entire Query Process']['execution_time_seconds'].mean()"
   ]
  },
  {
   "cell_type": "code",
   "execution_count": null,
   "metadata": {},
   "outputs": [],
   "source": [
    "JSONhubspotQ_mean - JSONhubspotAPI_mean"
   ]
  },
  {
   "cell_type": "code",
   "execution_count": null,
   "metadata": {},
   "outputs": [],
   "source": [
    "JSONforecastAPI_mean = result[result['base_url'] == 'api.forecastapp.com']['latency_seconds'].mean()"
   ]
  },
  {
   "cell_type": "code",
   "execution_count": null,
   "metadata": {},
   "outputs": [],
   "source": [
    "JSONforecastQ_mean =jsonq[jsonq['step'] == 'Forecast Entire Query Process']['execution_time_seconds'].mean()"
   ]
  },
  {
   "cell_type": "code",
   "execution_count": null,
   "metadata": {},
   "outputs": [],
   "source": [
    "JSONforecastQ_mean - JSONforecastAPI_mean"
   ]
  },
  {
   "cell_type": "markdown",
   "metadata": {},
   "source": [
    "#### Performance"
   ]
  },
  {
   "cell_type": "code",
   "execution_count": null,
   "metadata": {},
   "outputs": [],
   "source": [
    "jsonq_usage = pd.read_json('java-results/JSON2/json-resource-usage.json',convert_dates=False)"
   ]
  },
  {
   "cell_type": "code",
   "execution_count": null,
   "metadata": {},
   "outputs": [],
   "source": [
    "jsonq_usage[['cpu_percent','memory_percent']].describe()"
   ]
  },
  {
   "cell_type": "code",
   "execution_count": null,
   "metadata": {},
   "outputs": [],
   "source": [
    "jsonq_usage['cpu_percent'].plot(figsize = (20,5), grid = True);"
   ]
  },
  {
   "cell_type": "code",
   "execution_count": null,
   "metadata": {},
   "outputs": [],
   "source": [
    "jsonq_usage['memory_percent'].plot(figsize = (20,5), grid = True);"
   ]
  },
  {
   "cell_type": "code",
   "execution_count": null,
   "metadata": {},
   "outputs": [],
   "source": [
    "postq_usage = pd.read_json('java-results/POST2/post-resource-usage.json',convert_dates=False)"
   ]
  },
  {
   "cell_type": "code",
   "execution_count": null,
   "metadata": {},
   "outputs": [],
   "source": [
    "postq_usage[['cpu_percent','memory_percent']].describe()"
   ]
  },
  {
   "cell_type": "code",
   "execution_count": null,
   "metadata": {},
   "outputs": [],
   "source": [
    "postq_usage['cpu_percent'].plot(figsize = (20,5), grid = True);"
   ]
  },
  {
   "cell_type": "code",
   "execution_count": null,
   "metadata": {},
   "outputs": [],
   "source": [
    "postq_usage['memory_percent'].plot(figsize = (20,5), grid = True);"
   ]
  }
 ],
 "metadata": {
  "kernelspec": {
   "display_name": "Python 3",
   "language": "python",
   "name": "python3"
  },
  "language_info": {
   "codemirror_mode": {
    "name": "ipython",
    "version": 3
   },
   "file_extension": ".py",
   "mimetype": "text/x-python",
   "name": "python",
   "nbconvert_exporter": "python",
   "pygments_lexer": "ipython3",
   "version": "3.12.2"
  }
 },
 "nbformat": 4,
 "nbformat_minor": 2
}
